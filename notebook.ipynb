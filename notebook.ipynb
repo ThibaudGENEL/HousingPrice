{
 "cells": [
  {
   "cell_type": "markdown",
   "metadata": {},
   "source": [
    "<center>\n",
    "    <h1 style=\"color:green\">\n",
    "        <b>\n",
    "            <u> HOUSES PRICE PROJECT </u>\n",
    "        </b>\n",
    "    </h1>\n",
    "</center>"
   ]
  },
  {
   "cell_type": "code",
   "execution_count": 2,
   "metadata": {},
   "outputs": [],
   "source": [
    "import pandas as pd\n",
    "import numpy as np\n",
    "\n",
    "\n",
    "from src.data_processing.load_data import load_data\n",
    "from config.config import TEST_RATIO, SEED"
   ]
  },
  {
   "cell_type": "code",
   "execution_count": 7,
   "metadata": {},
   "outputs": [
    {
     "name": "stdout",
     "output_type": "stream",
     "text": [
      "0.3 13\n"
     ]
    }
   ],
   "source": [
    "print(TEST_RATIO, SEED)"
   ]
  },
  {
   "cell_type": "markdown",
   "metadata": {},
   "source": [
    "# Introduction"
   ]
  },
  {
   "cell_type": "markdown",
   "metadata": {},
   "source": [
    "# EDA"
   ]
  },
  {
   "cell_type": "code",
   "execution_count": 54,
   "metadata": {},
   "outputs": [
    {
     "data": {
      "text/html": [
       "<div>\n",
       "<style scoped>\n",
       "    .dataframe tbody tr th:only-of-type {\n",
       "        vertical-align: middle;\n",
       "    }\n",
       "\n",
       "    .dataframe tbody tr th {\n",
       "        vertical-align: top;\n",
       "    }\n",
       "\n",
       "    .dataframe thead th {\n",
       "        text-align: right;\n",
       "    }\n",
       "</style>\n",
       "<table border=\"1\" class=\"dataframe\">\n",
       "  <thead>\n",
       "    <tr style=\"text-align: right;\">\n",
       "      <th></th>\n",
       "      <th>price</th>\n",
       "      <th>AreA</th>\n",
       "      <th>bedrooms</th>\n",
       "      <th>BATHROOMS</th>\n",
       "      <th>stories</th>\n",
       "      <th>mainroad</th>\n",
       "      <th>guestroom</th>\n",
       "      <th>basement</th>\n",
       "      <th>hotwaterheating</th>\n",
       "      <th>air conditioning</th>\n",
       "      <th>parking</th>\n",
       "      <th>prefarea</th>\n",
       "      <th>furnishing STATUS</th>\n",
       "      <th>houSeaGe</th>\n",
       "    </tr>\n",
       "  </thead>\n",
       "  <tbody>\n",
       "    <tr>\n",
       "      <th>0</th>\n",
       "      <td>4543000.0</td>\n",
       "      <td>4990.0</td>\n",
       "      <td>4.0</td>\n",
       "      <td>2.0</td>\n",
       "      <td>2.0</td>\n",
       "      <td>yes</td>\n",
       "      <td>yes</td>\n",
       "      <td>yes</td>\n",
       "      <td>no</td>\n",
       "      <td>no</td>\n",
       "      <td>0.0</td>\n",
       "      <td>yes</td>\n",
       "      <td>furnished</td>\n",
       "      <td>15.0</td>\n",
       "    </tr>\n",
       "    <tr>\n",
       "      <th>1</th>\n",
       "      <td>8080940.0</td>\n",
       "      <td>7000.0</td>\n",
       "      <td>3.0</td>\n",
       "      <td>2.0</td>\n",
       "      <td>4.0</td>\n",
       "      <td>yes</td>\n",
       "      <td>no</td>\n",
       "      <td>no</td>\n",
       "      <td>no</td>\n",
       "      <td>yes</td>\n",
       "      <td>2.0</td>\n",
       "      <td>no</td>\n",
       "      <td>FURNISHED</td>\n",
       "      <td>11.0</td>\n",
       "    </tr>\n",
       "    <tr>\n",
       "      <th>2</th>\n",
       "      <td>8750000.0</td>\n",
       "      <td>4321.0</td>\n",
       "      <td>3.0</td>\n",
       "      <td>2.0</td>\n",
       "      <td>2.0</td>\n",
       "      <td>yes</td>\n",
       "      <td>no</td>\n",
       "      <td>yes</td>\n",
       "      <td>yes</td>\n",
       "      <td>no</td>\n",
       "      <td>2.0</td>\n",
       "      <td>no</td>\n",
       "      <td>FURNISHED</td>\n",
       "      <td>NaN</td>\n",
       "    </tr>\n",
       "    <tr>\n",
       "      <th>3</th>\n",
       "      <td>1890000.0</td>\n",
       "      <td>1700.0</td>\n",
       "      <td>3.0</td>\n",
       "      <td>1.0</td>\n",
       "      <td>2.0</td>\n",
       "      <td>yes</td>\n",
       "      <td>no</td>\n",
       "      <td>no</td>\n",
       "      <td>no</td>\n",
       "      <td>no</td>\n",
       "      <td>0.0</td>\n",
       "      <td>no</td>\n",
       "      <td>unfurnished</td>\n",
       "      <td>NaN</td>\n",
       "    </tr>\n",
       "    <tr>\n",
       "      <th>4</th>\n",
       "      <td>12215000.0</td>\n",
       "      <td>7500.0</td>\n",
       "      <td>4.0</td>\n",
       "      <td>2.0</td>\n",
       "      <td>2.0</td>\n",
       "      <td>yes</td>\n",
       "      <td>no</td>\n",
       "      <td>yes</td>\n",
       "      <td>no</td>\n",
       "      <td>yes</td>\n",
       "      <td>3.0</td>\n",
       "      <td>yes</td>\n",
       "      <td>furnished</td>\n",
       "      <td>NaN</td>\n",
       "    </tr>\n",
       "  </tbody>\n",
       "</table>\n",
       "</div>"
      ],
      "text/plain": [
       "        price    AreA  bedrooms  BATHROOMS  stories mainroad guestroom  \\\n",
       "0   4543000.0  4990.0       4.0        2.0      2.0      yes       yes   \n",
       "1   8080940.0  7000.0       3.0        2.0      4.0      yes        no   \n",
       "2   8750000.0  4321.0       3.0        2.0      2.0      yes        no   \n",
       "3   1890000.0  1700.0       3.0        1.0      2.0      yes        no   \n",
       "4  12215000.0  7500.0       4.0        2.0      2.0      yes        no   \n",
       "\n",
       "  basement hotwaterheating air conditioning  parking prefarea  \\\n",
       "0      yes              no               no      0.0      yes   \n",
       "1       no              no              yes      2.0       no   \n",
       "2      yes             yes               no      2.0       no   \n",
       "3       no              no               no      0.0       no   \n",
       "4      yes              no              yes      3.0      yes   \n",
       "\n",
       "  furnishing STATUS  houSeaGe  \n",
       "0         furnished      15.0  \n",
       "1         FURNISHED      11.0  \n",
       "2         FURNISHED       NaN  \n",
       "3       unfurnished       NaN  \n",
       "4         furnished       NaN  "
      ]
     },
     "execution_count": 54,
     "metadata": {},
     "output_type": "execute_result"
    }
   ],
   "source": [
    "path = 'data/house_prices.csv'\n",
    "df = pd.read_csv(path)\n",
    "\n",
    "df.head()\n"
   ]
  },
  {
   "cell_type": "code",
   "execution_count": 59,
   "metadata": {},
   "outputs": [
    {
     "name": "stdout",
     "output_type": "stream",
     "text": [
      "Index(['Price', 'Area', 'Bedrooms', 'Bathrooms', 'Stories', 'Mainroad',\n",
      "       'Guestroom', 'Basement', 'Hotwaterheating', 'Air_Conditioning',\n",
      "       'Parking', 'Prefarea', 'Furnishing_Status', 'Houseage'],\n",
      "      dtype='object')\n"
     ]
    },
    {
     "data": {
      "text/plain": [
       "Index(['Price', 'Area', 'Bedrooms', 'Bathrooms', 'Stories', 'Mainroad',\n",
       "       'Guestroom', 'Basement', 'Hot_Water_Heating', 'Air_conditioning',\n",
       "       'Parking', 'Prefarea', 'Furnishing_status', 'House_Age'],\n",
       "      dtype='object')"
      ]
     },
     "execution_count": 59,
     "metadata": {},
     "output_type": "execute_result"
    }
   ],
   "source": [
    "print(df.columns)\n",
    "\n",
    "df.columns = [col.lower().capitalize() for col in df.columns]\n",
    "df.rename(columns={'Furnishing status':'Furnishing_Status','Air conditioning':'Air_Conditioning','Hotwaterheating':'Hot_Water_Heating','Houseage':'House_Age'},inplace=True)\n",
    "\n",
    "\n",
    "\n",
    "df.columns"
   ]
  },
  {
   "cell_type": "code",
   "execution_count": 58,
   "metadata": {},
   "outputs": [
    {
     "name": "stdout",
     "output_type": "stream",
     "text": [
      "Values in Mainroad : ['yes' 'no']\n",
      "Values in Guestroom : ['yes' 'no']\n",
      "Values in Basement : ['yes' 'no']\n",
      "Values in Hotwaterheating : ['no' 'yes']\n",
      "Values in Air_Conditioning : ['no' 'yes']\n",
      "Values in Prefarea : ['yes' 'no']\n",
      "Values in Furnishing_Status : ['Furnished' 'Unfurnished' 'Semi-furnished']\n",
      "        Price    Area  Bedrooms  Bathrooms  Stories Mainroad Guestroom  \\\n",
      "0   4543000.0  4990.0       4.0        2.0      2.0      yes       yes   \n",
      "1   8080940.0  7000.0       3.0        2.0      4.0      yes        no   \n",
      "2   8750000.0  4321.0       3.0        2.0      2.0      yes        no   \n",
      "3   1890000.0  1700.0       3.0        1.0      2.0      yes        no   \n",
      "4  12215000.0  7500.0       4.0        2.0      2.0      yes        no   \n",
      "\n",
      "  Basement Hotwaterheating Air_Conditioning  Parking Prefarea  \\\n",
      "0      yes              no               no      0.0      yes   \n",
      "1       no              no              yes      2.0       no   \n",
      "2      yes             yes               no      2.0       no   \n",
      "3       no              no               no      0.0       no   \n",
      "4      yes              no              yes      3.0      yes   \n",
      "\n",
      "  Furnishing_Status  Houseage  \n",
      "0         Furnished      15.0  \n",
      "1         Furnished      11.0  \n",
      "2         Furnished       NaN  \n",
      "3       Unfurnished       NaN  \n",
      "4         Furnished       NaN  \n",
      "Values in Mainroad : ['yes' 'no']\n",
      "Values in Guestroom : ['yes' 'no']\n",
      "Values in Basement : ['yes' 'no']\n",
      "Values in Hotwaterheating : ['no' 'yes']\n",
      "Values in Air_Conditioning : ['no' 'yes']\n",
      "Values in Prefarea : ['yes' 'no']\n",
      "Values in Furnishing_Status : ['Furnished' 'Unfurnished' 'Semi-furnished']\n"
     ]
    }
   ],
   "source": [
    "for col in [col for col in df.columns if df[col].dtype == \"object\"] :   \n",
    "    print(f'Values in {col} : {df[col].dropna().unique()}')\n",
    "\n",
    "\n",
    "df['Furnishing_Status']= df['Furnishing_Status'].apply(lambda x : x.lower().capitalize() if pd.notna(x) else x)\n",
    "\n",
    "df.replace({'yes':True,'no':False})\n",
    "\n",
    "print(df.head())\n",
    "\n",
    "for col in [col for col in df.columns if df[col].dtype == \"object\"] :   \n",
    "    print(f'Values in {col} : {df[col].dropna().unique()}')"
   ]
  },
  {
   "cell_type": "markdown",
   "metadata": {},
   "source": [
    "# Validation croisée"
   ]
  },
  {
   "cell_type": "markdown",
   "metadata": {},
   "source": [
    "# Machine Learning"
   ]
  },
  {
   "cell_type": "markdown",
   "metadata": {},
   "source": [
    "# Conclusion"
   ]
  }
 ],
 "metadata": {
  "kernelspec": {
   "display_name": "python-ds",
   "language": "python",
   "name": "python3"
  },
  "language_info": {
   "codemirror_mode": {
    "name": "ipython",
    "version": 3
   },
   "file_extension": ".py",
   "mimetype": "text/x-python",
   "name": "python",
   "nbconvert_exporter": "python",
   "pygments_lexer": "ipython3",
   "version": "3.11.4"
  },
  "orig_nbformat": 4
 },
 "nbformat": 4,
 "nbformat_minor": 2
}
